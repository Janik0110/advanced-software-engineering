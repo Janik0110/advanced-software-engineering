{
 "cells": [
  {
   "cell_type": "code",
   "id": "initial_id",
   "metadata": {
    "collapsed": true,
    "ExecuteTime": {
     "end_time": "2025-01-26T11:03:09.308430Z",
     "start_time": "2025-01-26T11:03:09.304516Z"
    }
   },
   "source": [
    "import pandas as pd\n",
    "import sqlite3\n",
    "from uuid import uuid4"
   ],
   "outputs": [],
   "execution_count": 21
  },
  {
   "metadata": {
    "ExecuteTime": {
     "end_time": "2025-01-26T11:11:40.024623Z",
     "start_time": "2025-01-26T11:11:39.787888Z"
    }
   },
   "cell_type": "code",
   "source": [
    "columns = [\"Betreiber\", \"Straße\", \"Hausnummer\", \"Adresszusatz\", \"Postleitzahl\", \"Ort\", \"Bundesland\", \"Kreis/kreisfreie Stadt\", \"Breitengrad\", \"Längengrad\", \"Inbetriebnahmedatum\", \"Nennleistung Ladeeinrichtung [kW]\", \"Art der Ladeeinrichung\", \"Anzahl Ladepunkte\", \"Steckertypen1\", \"P1 [kW]\", \"Public Key1\", \"Steckertypen2\", \"P2 [kW]\", \"Public Key2\", \"Steckertypen3\", \"P3 [kW]\", \"Public Key3\", \"Steckertypen4\", \"P4 [kW]\", \"Public Key4\"]\n",
    "\n",
    "df = pd.read_csv('Ladesaeulenregister.csv', usecols=columns)\n",
    "df = df.loc[:,['Postleitzahl', 'Bundesland', \"Straße\", \"Hausnummer\", \"Art der Ladeeinrichung\"]]\n",
    "df.rename(columns  = {\"Postleitzahl\": \"PLZ\", \"Art der Ladeeinrichung\": \"Art\"                      }, inplace = True)\n",
    "\n",
    "df = df[(df[\"Bundesland\"] == 'Berlin') & (df[\"PLZ\"] > 10115) & (df[\"PLZ\"] < 14200)]\n",
    "\n",
    "# add column with uuids\n",
    "df['id'] = [str(uuid4()) for _ in range(len(df.index))]\n",
    "\n",
    "# rename street and house number\n",
    "df[\"street\"] = df[\"Straße\"]\n",
    "df[\"house_number\"] = df[\"Hausnummer\"]\n",
    "\n",
    "\n",
    "# rename schnellladeeinrichtung to FAST_CHARGING and normalladeeinrichtung to NORMAL\n",
    "df[\"Art\"] = df[\"Art\"].replace(\"Schnellladeeinrichtung\", \"FAST_CHARGING\")\n",
    "df[\"Art\"] = df[\"Art\"].replace(\"Normalladeeinrichtung\", \"NORMAL\")\n",
    "\n",
    "# make postal code str without decimal point but may have leading zeros\n",
    "df[\"PLZ\"] = df[\"PLZ\"].astype(str).str.split('.').str[0]\n",
    "\n",
    "df.rename(columns  = {\"PLZ\": \"postal_code\", \"Art\": \"type\"}, inplace = True)\n",
    "\n",
    "df.drop(columns = [\"Straße\", \"Hausnummer\", \"Bundesland\"], inplace = True)\n",
    "\n",
    "df.head()"
   ],
   "id": "5fb27ab36a723504",
   "outputs": [
    {
     "name": "stderr",
     "output_type": "stream",
     "text": [
      "/var/folders/2b/kdxp4c8d13lbl7my22wvncgc0000gn/T/ipykernel_97636/4146198925.py:3: DtypeWarning: Columns (8) have mixed types. Specify dtype option on import or set low_memory=False.\n",
      "  df = pd.read_csv('Ladesaeulenregister.csv', usecols=columns)\n"
     ]
    },
    {
     "data": {
      "text/plain": [
       "      postal_code    type                                    id       street  \\\n",
       "26581       10117  NORMAL  99bc7cef-f79b-4140-81ff-114d89860687  Hufelandweg   \n",
       "26582       10117  NORMAL  14b8744e-6e9c-4540-a21b-8594fb2cf59d  Hufelandweg   \n",
       "26583       10117  NORMAL  a305d509-1929-4ff4-94fd-a753433c74ab  Hufelandweg   \n",
       "26584       10117  NORMAL  5cf4c6f4-8d56-489e-9453-86f5f5bceeab  Hufelandweg   \n",
       "26585       10117  NORMAL  15ea09fe-54aa-4f38-bae5-68d3c580954c  Hufelandweg   \n",
       "\n",
       "      house_number  \n",
       "26581           16  \n",
       "26582           16  \n",
       "26583           16  \n",
       "26584           16  \n",
       "26585           16  "
      ],
      "text/html": [
       "<div>\n",
       "<style scoped>\n",
       "    .dataframe tbody tr th:only-of-type {\n",
       "        vertical-align: middle;\n",
       "    }\n",
       "\n",
       "    .dataframe tbody tr th {\n",
       "        vertical-align: top;\n",
       "    }\n",
       "\n",
       "    .dataframe thead th {\n",
       "        text-align: right;\n",
       "    }\n",
       "</style>\n",
       "<table border=\"1\" class=\"dataframe\">\n",
       "  <thead>\n",
       "    <tr style=\"text-align: right;\">\n",
       "      <th></th>\n",
       "      <th>postal_code</th>\n",
       "      <th>type</th>\n",
       "      <th>id</th>\n",
       "      <th>street</th>\n",
       "      <th>house_number</th>\n",
       "    </tr>\n",
       "  </thead>\n",
       "  <tbody>\n",
       "    <tr>\n",
       "      <th>26581</th>\n",
       "      <td>10117</td>\n",
       "      <td>NORMAL</td>\n",
       "      <td>99bc7cef-f79b-4140-81ff-114d89860687</td>\n",
       "      <td>Hufelandweg</td>\n",
       "      <td>16</td>\n",
       "    </tr>\n",
       "    <tr>\n",
       "      <th>26582</th>\n",
       "      <td>10117</td>\n",
       "      <td>NORMAL</td>\n",
       "      <td>14b8744e-6e9c-4540-a21b-8594fb2cf59d</td>\n",
       "      <td>Hufelandweg</td>\n",
       "      <td>16</td>\n",
       "    </tr>\n",
       "    <tr>\n",
       "      <th>26583</th>\n",
       "      <td>10117</td>\n",
       "      <td>NORMAL</td>\n",
       "      <td>a305d509-1929-4ff4-94fd-a753433c74ab</td>\n",
       "      <td>Hufelandweg</td>\n",
       "      <td>16</td>\n",
       "    </tr>\n",
       "    <tr>\n",
       "      <th>26584</th>\n",
       "      <td>10117</td>\n",
       "      <td>NORMAL</td>\n",
       "      <td>5cf4c6f4-8d56-489e-9453-86f5f5bceeab</td>\n",
       "      <td>Hufelandweg</td>\n",
       "      <td>16</td>\n",
       "    </tr>\n",
       "    <tr>\n",
       "      <th>26585</th>\n",
       "      <td>10117</td>\n",
       "      <td>NORMAL</td>\n",
       "      <td>15ea09fe-54aa-4f38-bae5-68d3c580954c</td>\n",
       "      <td>Hufelandweg</td>\n",
       "      <td>16</td>\n",
       "    </tr>\n",
       "  </tbody>\n",
       "</table>\n",
       "</div>"
      ]
     },
     "execution_count": 48,
     "metadata": {},
     "output_type": "execute_result"
    }
   ],
   "execution_count": 48
  },
  {
   "metadata": {
    "ExecuteTime": {
     "end_time": "2025-01-26T11:12:02.203511Z",
     "start_time": "2025-01-26T11:12:02.168259Z"
    }
   },
   "cell_type": "code",
   "source": [
    "conn = sqlite3.connect('database.sqlite')\n",
    "# id is the primary key\n",
    "df.to_sql('charging_stations', conn, if_exists='replace', index=False, index_label='id', dtype={'id': 'TEXT', 'postal_code': 'TEXT', 'type': 'TEXT', 'street': 'TEXT', 'house_number': 'TEXT'})"
   ],
   "id": "8995cd777dc15cc3",
   "outputs": [
    {
     "data": {
      "text/plain": [
       "2746"
      ]
     },
     "execution_count": 49,
     "metadata": {},
     "output_type": "execute_result"
    }
   ],
   "execution_count": 49
  },
  {
   "metadata": {
    "ExecuteTime": {
     "end_time": "2025-01-26T11:05:59.339116Z",
     "start_time": "2025-01-26T11:05:59.331886Z"
    }
   },
   "cell_type": "code",
   "source": "str(uuid4())",
   "id": "dba867c3f482d5a0",
   "outputs": [
    {
     "data": {
      "text/plain": [
       "'20436cca-d2a6-4a85-90a1-da58fa46b8f5'"
      ]
     },
     "execution_count": 32,
     "metadata": {},
     "output_type": "execute_result"
    }
   ],
   "execution_count": 32
  }
 ],
 "metadata": {
  "kernelspec": {
   "display_name": "Python 3",
   "language": "python",
   "name": "python3"
  },
  "language_info": {
   "codemirror_mode": {
    "name": "ipython",
    "version": 2
   },
   "file_extension": ".py",
   "mimetype": "text/x-python",
   "name": "python",
   "nbconvert_exporter": "python",
   "pygments_lexer": "ipython2",
   "version": "2.7.6"
  }
 },
 "nbformat": 4,
 "nbformat_minor": 5
}
